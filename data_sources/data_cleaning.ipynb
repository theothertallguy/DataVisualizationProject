{
 "cells": [
  {
   "cell_type": "code",
   "execution_count": 1,
   "id": "f254ce83",
   "metadata": {},
   "outputs": [],
   "source": [
    "import pandas as pd"
   ]
  },
  {
   "cell_type": "code",
   "execution_count": 2,
   "id": "cf70fa09",
   "metadata": {},
   "outputs": [],
   "source": [
    "file_path = \"travelq.csv\"\n",
    "#open the file and read it into a DataFrame\n",
    "df = pd.read_csv(file_path)"
   ]
  },
  {
   "cell_type": "code",
   "execution_count": null,
   "id": "9cc015fa",
   "metadata": {},
   "outputs": [],
   "source": [
    "#Column descriptions:\n",
    "# ref_number: general ID\n",
    "# disclosure_group\n",
    "# title_en: title in English\n",
    "# title_fr: title in French **DROP\n",
    "# name\n",
    "# purpose_en: purpose in English\n",
    "# purpose_fr: purpose in French **DROP\n",
    "# start_date: start date of the trip\n",
    "# end_date: end date of the trip\n",
    "# destination_en: destination in English\n",
    "# destination_fr: destination in French **DROP\n",
    "# destination_2_en: secondary destination in English\n",
    "# destination_2_fr: secondary destination in French **DROP\n",
    "# destination_other_en: other destination in English\n",
    "# destination_other_fr: other destination in French **DROP\n",
    "# airfare: cost of airfare\n",
    "# other_transportation: cost of other transportation\n",
    "# lodging: cost of lodging\n",
    "# meals: cost of meals\n",
    "# other_expenses: cost of other expenses\n",
    "# total: total cost of the trip\n",
    "# additional_comments_en: additional comments in English\n",
    "# additional_comments_fr: additional comments in French **DROP\n",
    "# owner_org: mystery! \n",
    "# owner_org_title:\n",
    "\n"
   ]
  },
  {
   "cell_type": "code",
   "execution_count": 9,
   "id": "11fade34",
   "metadata": {},
   "outputs": [],
   "source": [
    "#create a new DataFrame with owner_org and owner_org_title\n",
    "df_org = df[['owner_org', 'owner_org_title']].drop_duplicates()\n",
    "#save the owner_org DataFrame to a new CSV file\n",
    "df_org.to_csv(\"owner_org_descriptions.csv\", index=False)"
   ]
  },
  {
   "cell_type": "code",
   "execution_count": 10,
   "id": "409f84dc",
   "metadata": {},
   "outputs": [],
   "source": [
    "#save the cleaned DataFrame to a new CSV file\n",
    "#drop the marked columns above\n",
    "df_dropped = df.drop(columns=[\n",
    "    'title_fr',\n",
    "    'purpose_fr',\n",
    "    'destination_fr',\n",
    "    'destination_2_fr',\n",
    "    'destination_other_fr',\n",
    "    'additional_comments_fr'\n",
    "])\n",
    "df_dropped.to_csv(\"cleaned_travelq.csv\", index=False)"
   ]
  },
  {
   "cell_type": "code",
   "execution_count": 11,
   "id": "5f3b9450",
   "metadata": {},
   "outputs": [
    {
     "data": {
      "application/vnd.microsoft.datawrangler.viewer.v0+json": {
       "columns": [
        {
         "name": "index",
         "rawType": "int64",
         "type": "integer"
        },
        {
         "name": "ref_number",
         "rawType": "object",
         "type": "string"
        },
        {
         "name": "disclosure_group",
         "rawType": "object",
         "type": "string"
        },
        {
         "name": "title_en",
         "rawType": "object",
         "type": "string"
        },
        {
         "name": "name",
         "rawType": "object",
         "type": "string"
        },
        {
         "name": "purpose_en",
         "rawType": "object",
         "type": "string"
        },
        {
         "name": "start_date",
         "rawType": "object",
         "type": "string"
        },
        {
         "name": "end_date",
         "rawType": "object",
         "type": "string"
        },
        {
         "name": "destination_en",
         "rawType": "object",
         "type": "string"
        },
        {
         "name": "destination_2_en",
         "rawType": "object",
         "type": "unknown"
        },
        {
         "name": "destination_other_en",
         "rawType": "object",
         "type": "unknown"
        },
        {
         "name": "airfare",
         "rawType": "float64",
         "type": "float"
        },
        {
         "name": "other_transport",
         "rawType": "float64",
         "type": "float"
        },
        {
         "name": "lodging",
         "rawType": "float64",
         "type": "float"
        },
        {
         "name": "meals",
         "rawType": "float64",
         "type": "float"
        },
        {
         "name": "other_expenses",
         "rawType": "float64",
         "type": "float"
        },
        {
         "name": "total",
         "rawType": "float64",
         "type": "float"
        },
        {
         "name": "additional_comments_en",
         "rawType": "object",
         "type": "unknown"
        },
        {
         "name": "owner_org",
         "rawType": "object",
         "type": "string"
        },
        {
         "name": "owner_org_title",
         "rawType": "object",
         "type": "string"
        }
       ],
       "ref": "21fd6166-169a-4df1-8944-4f9b913313a2",
       "rows": [
        [
         "0",
         "T-20120-P11-001",
         "SLE",
         "Chief Executive Officer",
         "Philip Rizcallah",
         "To attend meeting with Saskatchewan Provincial Government",
         "2020-02-03",
         "2020-02-04",
         "Regina, Saskatchewan, Canada",
         null,
         null,
         "646.17",
         "117.26",
         "157.78",
         "197.25",
         "0.0",
         "1118.46",
         null,
         "casdo-ocena",
         "Accessibility Standards Canada | Normes d’accessibilité Canada"
        ],
        [
         "1",
         "T-2020-P11-0001",
         "SLE",
         "Chair",
         "Bérubé, Paul-Claude",
         "Board members meeting",
         "2020-02-09",
         "2020-02-13",
         "Vancouver, British Columbia, Canada",
         null,
         null,
         "1104.27",
         "189.72",
         "841.31",
         "461.84",
         null,
         "2597.14",
         null,
         "casdo-ocena",
         "Accessibility Standards Canada | Normes d’accessibilité Canada"
        ],
        [
         "2",
         "T-2020-P11-0002",
         "SLE",
         "Vice Chair",
         "Reid, Mary",
         "Board members meeting",
         "2020-02-09",
         "2020-02-14",
         "Vancouver, British Columbia, Canada",
         null,
         null,
         "2511.31",
         "132.48",
         "785.65",
         "591.0",
         "108.3",
         "4128.74",
         null,
         "casdo-ocena",
         "Accessibility Standards Canada | Normes d’accessibilité Canada"
        ],
        [
         "3",
         "T-2020-P11-0003",
         "SLE",
         "Board Of Directors",
         "McLaughlin, Joseph",
         "Board members meeting",
         "2020-02-09",
         "2020-02-12",
         "Vancouver, British Columbia, Canada",
         null,
         null,
         null,
         "58.32",
         "630.99",
         "264.6",
         "123.0",
         "1076.91",
         null,
         "casdo-ocena",
         "Accessibility Standards Canada | Normes d’accessibilité Canada"
        ],
        [
         "4",
         "T-2020-P11-0004",
         "SLE",
         "Board Of Directors ",
         "Haan, Maureen",
         "Board members meeting",
         "2020-02-09",
         "2020-02-12",
         "Vancouver, British Columbia, Canada",
         null,
         null,
         "880.99",
         "192.76",
         "630.99",
         "332.45",
         null,
         "2037.19",
         null,
         "casdo-ocena",
         "Accessibility Standards Canada | Normes d’accessibilité Canada"
        ]
       ],
       "shape": {
        "columns": 19,
        "rows": 5
       }
      },
      "text/html": [
       "<div>\n",
       "<style scoped>\n",
       "    .dataframe tbody tr th:only-of-type {\n",
       "        vertical-align: middle;\n",
       "    }\n",
       "\n",
       "    .dataframe tbody tr th {\n",
       "        vertical-align: top;\n",
       "    }\n",
       "\n",
       "    .dataframe thead th {\n",
       "        text-align: right;\n",
       "    }\n",
       "</style>\n",
       "<table border=\"1\" class=\"dataframe\">\n",
       "  <thead>\n",
       "    <tr style=\"text-align: right;\">\n",
       "      <th></th>\n",
       "      <th>ref_number</th>\n",
       "      <th>disclosure_group</th>\n",
       "      <th>title_en</th>\n",
       "      <th>name</th>\n",
       "      <th>purpose_en</th>\n",
       "      <th>start_date</th>\n",
       "      <th>end_date</th>\n",
       "      <th>destination_en</th>\n",
       "      <th>destination_2_en</th>\n",
       "      <th>destination_other_en</th>\n",
       "      <th>airfare</th>\n",
       "      <th>other_transport</th>\n",
       "      <th>lodging</th>\n",
       "      <th>meals</th>\n",
       "      <th>other_expenses</th>\n",
       "      <th>total</th>\n",
       "      <th>additional_comments_en</th>\n",
       "      <th>owner_org</th>\n",
       "      <th>owner_org_title</th>\n",
       "    </tr>\n",
       "  </thead>\n",
       "  <tbody>\n",
       "    <tr>\n",
       "      <th>0</th>\n",
       "      <td>T-20120-P11-001</td>\n",
       "      <td>SLE</td>\n",
       "      <td>Chief Executive Officer</td>\n",
       "      <td>Philip Rizcallah</td>\n",
       "      <td>To attend meeting with Saskatchewan Provincial...</td>\n",
       "      <td>2020-02-03</td>\n",
       "      <td>2020-02-04</td>\n",
       "      <td>Regina, Saskatchewan, Canada</td>\n",
       "      <td>NaN</td>\n",
       "      <td>NaN</td>\n",
       "      <td>646.17</td>\n",
       "      <td>117.26</td>\n",
       "      <td>157.78</td>\n",
       "      <td>197.25</td>\n",
       "      <td>0.0</td>\n",
       "      <td>1118.46</td>\n",
       "      <td>NaN</td>\n",
       "      <td>casdo-ocena</td>\n",
       "      <td>Accessibility Standards Canada | Normes d’acce...</td>\n",
       "    </tr>\n",
       "    <tr>\n",
       "      <th>1</th>\n",
       "      <td>T-2020-P11-0001</td>\n",
       "      <td>SLE</td>\n",
       "      <td>Chair</td>\n",
       "      <td>Bérubé, Paul-Claude</td>\n",
       "      <td>Board members meeting</td>\n",
       "      <td>2020-02-09</td>\n",
       "      <td>2020-02-13</td>\n",
       "      <td>Vancouver, British Columbia, Canada</td>\n",
       "      <td>NaN</td>\n",
       "      <td>NaN</td>\n",
       "      <td>1104.27</td>\n",
       "      <td>189.72</td>\n",
       "      <td>841.31</td>\n",
       "      <td>461.84</td>\n",
       "      <td>NaN</td>\n",
       "      <td>2597.14</td>\n",
       "      <td>NaN</td>\n",
       "      <td>casdo-ocena</td>\n",
       "      <td>Accessibility Standards Canada | Normes d’acce...</td>\n",
       "    </tr>\n",
       "    <tr>\n",
       "      <th>2</th>\n",
       "      <td>T-2020-P11-0002</td>\n",
       "      <td>SLE</td>\n",
       "      <td>Vice Chair</td>\n",
       "      <td>Reid, Mary</td>\n",
       "      <td>Board members meeting</td>\n",
       "      <td>2020-02-09</td>\n",
       "      <td>2020-02-14</td>\n",
       "      <td>Vancouver, British Columbia, Canada</td>\n",
       "      <td>NaN</td>\n",
       "      <td>NaN</td>\n",
       "      <td>2511.31</td>\n",
       "      <td>132.48</td>\n",
       "      <td>785.65</td>\n",
       "      <td>591.00</td>\n",
       "      <td>108.3</td>\n",
       "      <td>4128.74</td>\n",
       "      <td>NaN</td>\n",
       "      <td>casdo-ocena</td>\n",
       "      <td>Accessibility Standards Canada | Normes d’acce...</td>\n",
       "    </tr>\n",
       "    <tr>\n",
       "      <th>3</th>\n",
       "      <td>T-2020-P11-0003</td>\n",
       "      <td>SLE</td>\n",
       "      <td>Board Of Directors</td>\n",
       "      <td>McLaughlin, Joseph</td>\n",
       "      <td>Board members meeting</td>\n",
       "      <td>2020-02-09</td>\n",
       "      <td>2020-02-12</td>\n",
       "      <td>Vancouver, British Columbia, Canada</td>\n",
       "      <td>NaN</td>\n",
       "      <td>NaN</td>\n",
       "      <td>NaN</td>\n",
       "      <td>58.32</td>\n",
       "      <td>630.99</td>\n",
       "      <td>264.60</td>\n",
       "      <td>123.0</td>\n",
       "      <td>1076.91</td>\n",
       "      <td>NaN</td>\n",
       "      <td>casdo-ocena</td>\n",
       "      <td>Accessibility Standards Canada | Normes d’acce...</td>\n",
       "    </tr>\n",
       "    <tr>\n",
       "      <th>4</th>\n",
       "      <td>T-2020-P11-0004</td>\n",
       "      <td>SLE</td>\n",
       "      <td>Board Of Directors</td>\n",
       "      <td>Haan, Maureen</td>\n",
       "      <td>Board members meeting</td>\n",
       "      <td>2020-02-09</td>\n",
       "      <td>2020-02-12</td>\n",
       "      <td>Vancouver, British Columbia, Canada</td>\n",
       "      <td>NaN</td>\n",
       "      <td>NaN</td>\n",
       "      <td>880.99</td>\n",
       "      <td>192.76</td>\n",
       "      <td>630.99</td>\n",
       "      <td>332.45</td>\n",
       "      <td>NaN</td>\n",
       "      <td>2037.19</td>\n",
       "      <td>NaN</td>\n",
       "      <td>casdo-ocena</td>\n",
       "      <td>Accessibility Standards Canada | Normes d’acce...</td>\n",
       "    </tr>\n",
       "  </tbody>\n",
       "</table>\n",
       "</div>"
      ],
      "text/plain": [
       "        ref_number disclosure_group                 title_en  \\\n",
       "0  T-20120-P11-001              SLE  Chief Executive Officer   \n",
       "1  T-2020-P11-0001              SLE                    Chair   \n",
       "2  T-2020-P11-0002              SLE               Vice Chair   \n",
       "3  T-2020-P11-0003              SLE       Board Of Directors   \n",
       "4  T-2020-P11-0004              SLE      Board Of Directors    \n",
       "\n",
       "                  name                                         purpose_en  \\\n",
       "0     Philip Rizcallah  To attend meeting with Saskatchewan Provincial...   \n",
       "1  Bérubé, Paul-Claude                              Board members meeting   \n",
       "2           Reid, Mary                              Board members meeting   \n",
       "3   McLaughlin, Joseph                              Board members meeting   \n",
       "4        Haan, Maureen                              Board members meeting   \n",
       "\n",
       "   start_date    end_date                       destination_en  \\\n",
       "0  2020-02-03  2020-02-04         Regina, Saskatchewan, Canada   \n",
       "1  2020-02-09  2020-02-13  Vancouver, British Columbia, Canada   \n",
       "2  2020-02-09  2020-02-14  Vancouver, British Columbia, Canada   \n",
       "3  2020-02-09  2020-02-12  Vancouver, British Columbia, Canada   \n",
       "4  2020-02-09  2020-02-12  Vancouver, British Columbia, Canada   \n",
       "\n",
       "  destination_2_en destination_other_en  airfare  other_transport  lodging  \\\n",
       "0              NaN                  NaN   646.17           117.26   157.78   \n",
       "1              NaN                  NaN  1104.27           189.72   841.31   \n",
       "2              NaN                  NaN  2511.31           132.48   785.65   \n",
       "3              NaN                  NaN      NaN            58.32   630.99   \n",
       "4              NaN                  NaN   880.99           192.76   630.99   \n",
       "\n",
       "    meals  other_expenses    total additional_comments_en    owner_org  \\\n",
       "0  197.25             0.0  1118.46                    NaN  casdo-ocena   \n",
       "1  461.84             NaN  2597.14                    NaN  casdo-ocena   \n",
       "2  591.00           108.3  4128.74                    NaN  casdo-ocena   \n",
       "3  264.60           123.0  1076.91                    NaN  casdo-ocena   \n",
       "4  332.45             NaN  2037.19                    NaN  casdo-ocena   \n",
       "\n",
       "                                     owner_org_title  \n",
       "0  Accessibility Standards Canada | Normes d’acce...  \n",
       "1  Accessibility Standards Canada | Normes d’acce...  \n",
       "2  Accessibility Standards Canada | Normes d’acce...  \n",
       "3  Accessibility Standards Canada | Normes d’acce...  \n",
       "4  Accessibility Standards Canada | Normes d’acce...  "
      ]
     },
     "execution_count": 11,
     "metadata": {},
     "output_type": "execute_result"
    }
   ],
   "source": [
    "df_dropped.head()"
   ]
  },
  {
   "cell_type": "code",
   "execution_count": 19,
   "id": "099c1a3f",
   "metadata": {},
   "outputs": [
    {
     "name": "stdout",
     "output_type": "stream",
     "text": [
      "Number of missing destination_en values: 648\n"
     ]
    }
   ],
   "source": [
    "#See if there are missing values in destination_en\n",
    "missing_destinations = df_dropped[df_dropped['destination_en'].isnull()]\n",
    "print(f\"Number of missing destination_en values: {len(missing_destinations)}\")"
   ]
  },
  {
   "cell_type": "code",
   "execution_count": 14,
   "id": "080fa903",
   "metadata": {},
   "outputs": [],
   "source": [
    "#drop rows with missing destination_en values\n",
    "df_dropped_2 = df_dropped.dropna(subset=['destination_en'])"
   ]
  },
  {
   "cell_type": "code",
   "execution_count": 16,
   "id": "cc594667",
   "metadata": {},
   "outputs": [
    {
     "name": "stdout",
     "output_type": "stream",
     "text": [
      "Number of records after dropping missing destination_en values: 134789\n"
     ]
    }
   ],
   "source": [
    "#How many records remain after dropping missing values?\n",
    "print(f\"Number of records after dropping missing destination_en values: {len(df_dropped_2)}\")"
   ]
  },
  {
   "cell_type": "code",
   "execution_count": 17,
   "id": "414b17cc",
   "metadata": {},
   "outputs": [],
   "source": [
    "#Save full dataset\n",
    "df_dropped_2.to_csv(\"full_data.csv\", index=False)"
   ]
  },
  {
   "cell_type": "code",
   "execution_count": 18,
   "id": "6caf495a",
   "metadata": {},
   "outputs": [],
   "source": [
    "#Save a lite version with only 1 out of every 100 records\n",
    "df_lite = df_dropped_2.iloc[::100, :]\n",
    "df_lite.to_csv(\"lite_data.csv\", index=False)"
   ]
  },
  {
   "cell_type": "code",
   "execution_count": null,
   "id": "18d631f2",
   "metadata": {},
   "outputs": [],
   "source": []
  }
 ],
 "metadata": {
  "kernelspec": {
   "display_name": "AASDenv",
   "language": "python",
   "name": "python3"
  },
  "language_info": {
   "codemirror_mode": {
    "name": "ipython",
    "version": 3
   },
   "file_extension": ".py",
   "mimetype": "text/x-python",
   "name": "python",
   "nbconvert_exporter": "python",
   "pygments_lexer": "ipython3",
   "version": "3.12.9"
  }
 },
 "nbformat": 4,
 "nbformat_minor": 5
}
